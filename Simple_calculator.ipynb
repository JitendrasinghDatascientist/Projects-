{
 "cells": [
  {
   "cell_type": "code",
   "execution_count": 1,
   "id": "4bb8f0c4",
   "metadata": {},
   "outputs": [
    {
     "name": "stdout",
     "output_type": "stream",
     "text": [
      "Enter the choice: 2\n",
      "Enter the number1: 89\n",
      "Enter the number2: 90\n",
      "subtraction: -1\n"
     ]
    }
   ],
   "source": [
    "# Simple_calculater:\n",
    "def add(num1,num2):\n",
    "    return num1 + num2\n",
    "def sub(num1,num2):\n",
    "    return num1-num2\n",
    "def mul(num1,num2):\n",
    "    return num1*num2\n",
    "def divi(num1,num2):\n",
    "    return num1/num2\n",
    "\n",
    "def calculator():\n",
    "    choice = int(input(\"Enter the choice: \"))\n",
    "    num1 = int(input(\"Enter the number1: \"))\n",
    "    num2 = int(input(\"Enter the number2: \"))\n",
    "    if choice == 1:\n",
    "        print(\"addition:\",add(num1,num2))\n",
    "    elif choice == 2:\n",
    "        print(\"subtraction:\",sub(num1,num2))\n",
    "    elif choice == 3:\n",
    "        print(\"multiplication:\",mul(num1,num2))\n",
    "    elif choice == 4:\n",
    "        print(\"division:\",divi(num1,num2))\n",
    "    else:\n",
    "        print(\"invalid input!\")\n",
    "        \n",
    "if __name__ ==\"__main__\":\n",
    "    calculator()"
   ]
  },
  {
   "cell_type": "code",
   "execution_count": null,
   "id": "9e373d05",
   "metadata": {},
   "outputs": [],
   "source": []
  }
 ],
 "metadata": {
  "kernelspec": {
   "display_name": "Python 3 (ipykernel)",
   "language": "python",
   "name": "python3"
  },
  "language_info": {
   "codemirror_mode": {
    "name": "ipython",
    "version": 3
   },
   "file_extension": ".py",
   "mimetype": "text/x-python",
   "name": "python",
   "nbconvert_exporter": "python",
   "pygments_lexer": "ipython3",
   "version": "3.11.3"
  }
 },
 "nbformat": 4,
 "nbformat_minor": 5
}
