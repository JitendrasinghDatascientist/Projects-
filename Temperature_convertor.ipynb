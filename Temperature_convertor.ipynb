{
 "cells": [
  {
   "cell_type": "code",
   "execution_count": null,
   "id": "2384c778",
   "metadata": {},
   "outputs": [],
   "source": [
    "# temperature_convertor_program:\n",
    "def celsius_to_fahrenheit(celsius):\n",
    "    return (celsius * 9/5) + 32\n",
    "def celsius_to_kelvin(celsius):\n",
    "    return (celsius + 273.15)\n",
    "def fahrenheit_to_celsius(fahrenheit):\n",
    "    return (fahrenheit - 32) * 5/9\n",
    "def fahrenheit_to_kelvin(fahrenheit):\n",
    "    return (fahrenheit - 32) * 5/9 + 273.15\n",
    "def kelvin_to_celsius(kelvin):\n",
    "    return kelvin - 273.15 \n",
    "def kelvin_to_fahrenheit(kelvin):\n",
    "    return (kelvin - 273.15) * 9/5 + 32\n",
    "\n",
    "\n",
    "def temperature_convertor():\n",
    "    choice = int(input(\"Enter the number: \"))\n",
    "    if choice == 1:\n",
    "        celsius = float(input(\"Enter the celsius: \"))\n",
    "        print(\"celsius_to_fahrenheit:\",celsius_to_fahrenheit(celsius))\n",
    "    elif choice == 2: \n",
    "        celsius = float(input(\"Enter the celsius: \"))\n",
    "        print(\"celsius_to_kelvin:\",celsius_to_kelvin(celsius))\n",
    "    elif choice == 3:\n",
    "        fahrenheit = float(input(\"Enter the fahrenheit: \"))\n",
    "        print(\"fahrenheit_to_celsius:\",fahrenheit_to_celsius(fahrenheit))\n",
    "    elif choice == 4:\n",
    "        fahrenheit = float(input(\"Enter the fahrenheit: \"))\n",
    "        print(\"fahrenheit_to_kelvin:\",fahrenheit_to_kelvin(fahrenheit))\n",
    "    elif choice == 5:\n",
    "        kelvin = float(input(\"Enter the kelvin:\"))\n",
    "        print(\"kelvin_to_celsius:\",kelvin_to_celsius(kelvin))\n",
    "    elif choice == 6:\n",
    "        kelvin = float(input(\"Enter the kelvin:\"))\n",
    "        print(\"kelvin_to_fahrenheit:\",kelvin_to_fahrenheit(kelvin))\n",
    "    else:\n",
    "        print(\"Invalid input\")\n",
    "        \n",
    "if __name__ ==\"__main__\":\n",
    "    temperature_convertor()"
   ]
  }
 ],
 "metadata": {
  "kernelspec": {
   "display_name": "Python 3 (ipykernel)",
   "language": "python",
   "name": "python3"
  },
  "language_info": {
   "codemirror_mode": {
    "name": "ipython",
    "version": 3
   },
   "file_extension": ".py",
   "mimetype": "text/x-python",
   "name": "python",
   "nbconvert_exporter": "python",
   "pygments_lexer": "ipython3",
   "version": "3.11.3"
  }
 },
 "nbformat": 4,
 "nbformat_minor": 5
}
