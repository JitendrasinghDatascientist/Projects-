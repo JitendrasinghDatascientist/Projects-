{
 "cells": [
  {
   "cell_type": "code",
   "execution_count": 1,
   "id": "8902810c",
   "metadata": {},
   "outputs": [
    {
     "name": "stdout",
     "output_type": "stream",
     "text": [
      "You have 5 attempts\n",
      "Enter the number: 78\n",
      "Go lower.\n",
      "Enter the number: 89\n",
      "Go higher.\n",
      "Enter the number: 45\n",
      "Go higher.\n",
      "Enter the number: 43\n",
      "Go higher.\n",
      "Enter the number: 24\n",
      "Go higher.\n",
      "You lost the game. The number was: 167\n"
     ]
    }
   ],
   "source": [
    "# Guessing the number game.\n",
    "import random \n",
    "\n",
    "print(\"You have 5 attempts\")\n",
    "for i in range(5):\n",
    "    res = random.randint(1, 200)\n",
    "    num = int(input(\"Enter the number: \"))\n",
    "    if num == res:\n",
    "        print(\"You won the game!\")\n",
    "        break\n",
    "    elif num > res:\n",
    "        print(\"Go lower.\")\n",
    "    elif num < res:\n",
    "        print(\"Go higher.\")\n",
    "else:\n",
    "    print(\"You lost the game. The number was:\", res)"
   ]
  }
 ],
 "metadata": {
  "kernelspec": {
   "display_name": "Python 3 (ipykernel)",
   "language": "python",
   "name": "python3"
  },
  "language_info": {
   "codemirror_mode": {
    "name": "ipython",
    "version": 3
   },
   "file_extension": ".py",
   "mimetype": "text/x-python",
   "name": "python",
   "nbconvert_exporter": "python",
   "pygments_lexer": "ipython3",
   "version": "3.11.3"
  }
 },
 "nbformat": 4,
 "nbformat_minor": 5
}
