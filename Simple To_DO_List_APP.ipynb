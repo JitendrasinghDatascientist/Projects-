{
 "cells": [
  {
   "cell_type": "code",
   "execution_count": 1,
   "id": "7c7d0fb1",
   "metadata": {},
   "outputs": [
    {
     "name": "stdout",
     "output_type": "stream",
     "text": [
      "Enter the task name: journey\n",
      "Task not found\n"
     ]
    }
   ],
   "source": [
    "# To-do-List-project:\n",
    "def TO_DO_List_APP(task):\n",
    "    completed_task = [\"homework\",\"gym\",\"food\",\"study\"]\n",
    "    pending_task = [\"bath\",\"singing\",\"mopping\",\"brushing\"]\n",
    "    deleted_task = [ \"not going outdoor\", \"not playing pubg\",\"not go to market\"]\n",
    "    \n",
    "    task = task.lower()\n",
    "    \n",
    "    for word in completed_task:\n",
    "        if word in task:\n",
    "            return \"completed\"\n",
    "        \n",
    "    for word in pending_task:\n",
    "        if word in task:\n",
    "            return \"pending\"\n",
    "          \n",
    "    for word in deleted_task:\n",
    "        if word in task:\n",
    "            return \"deleted_task\"\n",
    "    return \"Task not found\"\n",
    "\n",
    "if __name__ == \"__main__\":\n",
    "    input_task = input(\"Enter the task name: \")\n",
    "    print(TO_DO_List_APP(input_task))\n",
    "        "
   ]
  },
  {
   "cell_type": "code",
   "execution_count": null,
   "id": "710de52d",
   "metadata": {},
   "outputs": [],
   "source": []
  }
 ],
 "metadata": {
  "kernelspec": {
   "display_name": "Python 3 (ipykernel)",
   "language": "python",
   "name": "python3"
  },
  "language_info": {
   "codemirror_mode": {
    "name": "ipython",
    "version": 3
   },
   "file_extension": ".py",
   "mimetype": "text/x-python",
   "name": "python",
   "nbconvert_exporter": "python",
   "pygments_lexer": "ipython3",
   "version": "3.11.3"
  }
 },
 "nbformat": 4,
 "nbformat_minor": 5
}
