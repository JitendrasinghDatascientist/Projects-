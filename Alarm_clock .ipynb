{
 "cells": [
  {
   "cell_type": "code",
   "execution_count": null,
   "id": "daa59c95",
   "metadata": {},
   "outputs": [],
   "source": [
    "import time \n",
    "import winsound \n",
    "def set_alarm_time():\n",
    "    print(\"Enter the time in HH:MM fromate:\")\n",
    "    return input(\">>\")\n",
    "def wait_for_alarm(alarm_time):\n",
    "    while True:\n",
    "        current_time = time.strftime(\"%H:%M\")\n",
    "        if current_time == alarm_time:\n",
    "            print(\"Wake UP alarm Time is held: \")\n",
    "            winsound.Beep(1000,10000)\n",
    "        else:\n",
    "            print(\"current time:\",current_time)\n",
    "            time.sleep(60)\n",
    "def alarm_clock():\n",
    "    print(\"welcome to the alarm clock: \")\n",
    "    alarm_time = set_alarm_time()\n",
    "    print(\"alarm_time is \",alarm_time)\n",
    "    wait_for_alarm(alarm_time)\n",
    "if __name__ == \"__main__\":\n",
    "    alarm_clock()"
   ]
  }
 ],
 "metadata": {
  "kernelspec": {
   "display_name": "Python 3 (ipykernel)",
   "language": "python",
   "name": "python3"
  },
  "language_info": {
   "codemirror_mode": {
    "name": "ipython",
    "version": 3
   },
   "file_extension": ".py",
   "mimetype": "text/x-python",
   "name": "python",
   "nbconvert_exporter": "python",
   "pygments_lexer": "ipython3",
   "version": "3.11.3"
  }
 },
 "nbformat": 4,
 "nbformat_minor": 5
}
