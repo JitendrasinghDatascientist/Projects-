{
 "cells": [
  {
   "cell_type": "code",
   "execution_count": null,
   "id": "3f461aa1",
   "metadata": {},
   "outputs": [],
   "source": [
    "def add_user_details(user_name, phone_number, email_address):\n",
    "    return (user_name, phone_number, email_address)\n",
    "\n",
    "def update_user_details(address_book, user_name, new_phone_number, new_email_address):\n",
    "    for user_details in address_book:\n",
    "        if user_details[0] == user_name:\n",
    "            user_details = (user_name, new_phone_number, new_email_address)\n",
    "            return True\n",
    "    return False\n",
    "\n",
    "def delete_user_details(address_book, user_name,phone_number,email_address):\n",
    "    for user_details in address_book:\n",
    "        if user_details[0] == (user_name,phone_number,email_address):\n",
    "            address_book.remove(user_details)\n",
    "            return True\n",
    "    return False\n",
    "\n",
    "def Address_Book():\n",
    "    address_book = []\n",
    "    print(\"1. Add user details\")\n",
    "    print(\"2. Update\")\n",
    "    print(\"3. Delete\")\n",
    "    print(\"4. Exit\")\n",
    "    while True:\n",
    "        choice = int(input(\"Enter the choice: \"))\n",
    "        if choice == 1:\n",
    "            user_name = input(\"Enter the user name: \")\n",
    "            phone_number = int(input(\"Enter the phone number: \"))\n",
    "            email_address = input(\"Enter the email address: \")\n",
    "            address_book.append(add_user_details(user_name, phone_number, email_address))\n",
    "            print(\"Your Entered details:\", (user_name, phone_number, email_address))\n",
    "        elif choice == 2:\n",
    "            user_name = input(\"Enter the user name to edit: \")\n",
    "            new_phone_number = int(input(\"Enter the new phone number: \"))\n",
    "            new_email_address = input(\"Enter the new email address: \")\n",
    "            if update_user_details(address_book, user_name, new_phone_number, new_email_address):\n",
    "                print(\"User details updated successfully.\")\n",
    "            else:\n",
    "                print(\"User not found in address book.\")\n",
    "        elif choice == 3:\n",
    "            user_name = input(\"Enter the user name to delete: \")\n",
    "            phone_number = int(input(\"Enter the phone number: \"))\n",
    "            email_address = input(\"Enter the email address: \")\n",
    "            if delete_user_details(address_book, user_name,phone_number, email_address):\n",
    "                print(\"User details deleted successfully.\")\n",
    "            else:\n",
    "                print(\"User not found in address book.\")\n",
    "        elif choice == 4:\n",
    "            print(\"Exit!\")\n",
    "            break\n",
    "        else:\n",
    "            print(\"Invalid input!\")\n",
    "\n",
    "if __name__ == \"__main__\":\n",
    "    Address_Book()\n"
   ]
  }
 ],
 "metadata": {
  "kernelspec": {
   "display_name": "Python 3 (ipykernel)",
   "language": "python",
   "name": "python3"
  },
  "language_info": {
   "codemirror_mode": {
    "name": "ipython",
    "version": 3
   },
   "file_extension": ".py",
   "mimetype": "text/x-python",
   "name": "python",
   "nbconvert_exporter": "python",
   "pygments_lexer": "ipython3",
   "version": "3.11.3"
  }
 },
 "nbformat": 4,
 "nbformat_minor": 5
}
