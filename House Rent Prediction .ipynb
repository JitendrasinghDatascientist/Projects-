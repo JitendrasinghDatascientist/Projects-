{
 "cells": [
  {
   "cell_type": "code",
   "execution_count": 1,
   "id": "81fb7d63",
   "metadata": {},
   "outputs": [
    {
     "name": "stdout",
     "output_type": "stream",
     "text": [
      "house rent predicition: [55822.40746914]\n"
     ]
    },
    {
     "name": "stderr",
     "output_type": "stream",
     "text": [
      "C:\\Users\\jiten\\AppData\\Roaming\\Python\\Python311\\site-packages\\sklearn\\base.py:493: UserWarning: X does not have valid feature names, but LinearRegression was fitted with feature names\n",
      "  warnings.warn(\n"
     ]
    }
   ],
   "source": [
    "import pandas as pd\n",
    "from sklearn.linear_model import LinearRegression \n",
    "import numpy as np\n",
    "res = pd.read_csv(\"House_data.csv\")\n",
    "model = LinearRegression()\n",
    "model.fit(res[[\"Size\"]],res[[\"Rent\"]])\n",
    "new_flat = np.array([900]).reshape(-1,1)\n",
    "prediction = model.predict(new_flat)\n",
    "print(\"house rent predicition:\",prediction[0])\n"
   ]
  },
  {
   "cell_type": "code",
   "execution_count": 2,
   "id": "634099ad",
   "metadata": {},
   "outputs": [
    {
     "name": "stdout",
     "output_type": "stream",
     "text": [
      "Predicted rent for the new flat: 55822.40746913579\n"
     ]
    },
    {
     "name": "stderr",
     "output_type": "stream",
     "text": [
      "C:\\Users\\jiten\\AppData\\Roaming\\Python\\Python311\\site-packages\\sklearn\\base.py:493: UserWarning: X does not have valid feature names, but LinearRegression was fitted with feature names\n",
      "  warnings.warn(\n"
     ]
    }
   ],
   "source": [
    "import pandas as pd\n",
    "from sklearn.linear_model import LinearRegression \n",
    "import numpy as np\n",
    "res = pd.read_csv(\"House_data.csv\")\n",
    "model = LinearRegression()\n",
    "model.fit(res[[\"Size\"]], res[[\"Rent\"]])\n",
    "new_flat = np.array([[900]])\n",
    "prediction = model.predict(new_flat)\n",
    "print(\"Predicted rent for the new flat:\", prediction[0][0])\n"
   ]
  },
  {
   "cell_type": "code",
   "execution_count": null,
   "id": "e5b0ecc1",
   "metadata": {},
   "outputs": [],
   "source": []
  }
 ],
 "metadata": {
  "kernelspec": {
   "display_name": "Python 3 (ipykernel)",
   "language": "python",
   "name": "python3"
  },
  "language_info": {
   "codemirror_mode": {
    "name": "ipython",
    "version": 3
   },
   "file_extension": ".py",
   "mimetype": "text/x-python",
   "name": "python",
   "nbconvert_exporter": "python",
   "pygments_lexer": "ipython3",
   "version": "3.11.3"
  }
 },
 "nbformat": 4,
 "nbformat_minor": 5
}
