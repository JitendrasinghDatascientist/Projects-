{
 "cells": [
  {
   "cell_type": "code",
   "execution_count": null,
   "id": "2627b5e8",
   "metadata": {},
   "outputs": [],
   "source": [
    "def add_income(income):\n",
    "    return income\n",
    "def add_expense(income,expense):\n",
    "    return income - expense\n",
    "def personal_budget_tracker():\n",
    "    income = 0\n",
    "    expense = 0\n",
    "    while True:\n",
    "        print(\"1.add income\")\n",
    "        print(\"2.add expense\")\n",
    "        print(\"3. exit\")\n",
    "        \n",
    "        choice = int(input(\"Enter the choice:\"))\n",
    "        if choice == 1:\n",
    "            income += int(input(\"Enter the income:\"))\n",
    "            print(\"your income is:\",add_income(income))\n",
    "        elif choice == 2:\n",
    "            expense += int(input(\"Enter the expense: \"))\n",
    "            print(\"Your income is:\",add_expense(income,expense))\n",
    "        elif choice == 3:\n",
    "            print(\"exit\")\n",
    "            break\n",
    "        else:\n",
    "            print(\"invalid input!\")\n",
    "            \n",
    "        print(\"current amount is: \", add_expense(income,expense))\n",
    "        \n",
    "if __name__ == \"__main__\":\n",
    "    personal_budget_tracker()"
   ]
  }
 ],
 "metadata": {
  "kernelspec": {
   "display_name": "Python 3 (ipykernel)",
   "language": "python",
   "name": "python3"
  },
  "language_info": {
   "codemirror_mode": {
    "name": "ipython",
    "version": 3
   },
   "file_extension": ".py",
   "mimetype": "text/x-python",
   "name": "python",
   "nbconvert_exporter": "python",
   "pygments_lexer": "ipython3",
   "version": "3.11.3"
  }
 },
 "nbformat": 4,
 "nbformat_minor": 5
}
